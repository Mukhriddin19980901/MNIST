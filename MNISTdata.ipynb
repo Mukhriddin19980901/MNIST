{
 "cells": [
  {
   "cell_type": "code",
   "execution_count": 9,
   "id": "f1003b29",
   "metadata": {},
   "outputs": [],
   "source": [
    "import tensorflow as tf \n",
    "from tensorflow  import keras\n",
    "import numpy as np\n",
    "import matplotlib.pyplot as plt\n",
    "import random\n",
    "import seaborn as sns\n",
    "from tensorflow.keras.optimizers import Adam\n",
    "from keras.layers import Conv2D,Activation,BatchNormalization, Dense,Dropout,MaxPooling2D,Flatten"
   ]
  },
  {
   "cell_type": "code",
   "execution_count": 11,
   "id": "2798d98b",
   "metadata": {},
   "outputs": [
    {
     "name": "stdout",
     "output_type": "stream",
     "text": [
      "train shape :  (60000, 28, 28) test shape :  (10000, 28, 28)\n"
     ]
    }
   ],
   "source": [
    "(x_train, y_train), (x_test, y_test) = keras.datasets.mnist.load_data()\n",
    "x_train=np.array(x_train)\n",
    "y_train=np.array(y_train)\n",
    "x_test=np.array(x_test)\n",
    "y_test=np.array(y_test)\n",
    "print(\"train shape : \",x_train.shape,'test shape : ',x_test.shape)"
   ]
  },
  {
   "cell_type": "code",
   "execution_count": 12,
   "id": "dcf19065",
   "metadata": {
    "scrolled": true
   },
   "outputs": [
    {
     "data": {
      "image/png": "[encoded data removed]",
      "text/plain": [
       "<Figure size 432x288 with 1 Axes>"
      ]
     },
     "metadata": {
      "needs_background": "light"
     },
     "output_type": "display_data"
    }
   ],
   "source": [
    "x = random.randint(1,10)\n",
    "plt.title(f\"bus son {y_train[x]} hajmi : {x_train[x].shape}\")\n",
    "plt.imshow(x_train[x],cmap='gray')\n",
    "plt.show()"
   ]
  },
  {
   "cell_type": "code",
   "execution_count": 13,
   "id": "705a1493",
   "metadata": {},
   "outputs": [
    {
     "data": {
      "image/png": "[encoded data removed]",
      "text/plain": [
       "<Figure size 864x648 with 1 Axes>"
      ]
     },
     "metadata": {
      "needs_background": "light"
     },
     "output_type": "display_data"
    }
   ],
   "source": [
    "plt.figure(figsize=(12,9))\n",
    "sns.countplot(x=y_train)\n",
    "plt.show()"
   ]
  },
  {
   "cell_type": "code",
   "execution_count": 15,
   "id": "71d93759",
   "metadata": {
    "scrolled": true
   },
   "outputs": [
    {
     "name": "stdout",
     "output_type": "stream",
     "text": [
      "Model: \"sequential_1\"\n",
      "_________________________________________________________________\n",
      " Layer (type)                Output Shape              Param #   \n",
      "=================================================================\n",
      " conv2d_7 (Conv2D)           (None, 28, 28, 32)        320       \n",
      "                                                                 \n",
      " batch_normalization_7 (Batc  (None, 28, 28, 32)       128       \n",
      " hNormalization)                                                 \n",
      "                                                                 \n",
      " conv2d_8 (Conv2D)           (None, 28, 28, 32)        25632     \n",
      "                                                                 \n",
      " batch_normalization_8 (Batc  (None, 28, 28, 32)       128       \n",
      " hNormalization)                                                 \n",
      "                                                                 \n",
      " max_pooling2d_4 (MaxPooling  (None, 14, 14, 32)       0         \n",
      " 2D)                                                             \n",
      "                                                                 \n",
      " conv2d_9 (Conv2D)           (None, 14, 14, 64)        18496     \n",
      "                                                                 \n",
      " batch_normalization_9 (Batc  (None, 14, 14, 64)       256       \n",
      " hNormalization)                                                 \n",
      "                                                                 \n",
      " max_pooling2d_5 (MaxPooling  (None, 7, 7, 64)         0         \n",
      " 2D)                                                             \n",
      "                                                                 \n",
      " dropout_1 (Dropout)         (None, 7, 7, 64)          0         \n",
      "                                                                 \n",
      " conv2d_10 (Conv2D)          (None, 7, 7, 128)         73856     \n",
      "                                                                 \n",
      " batch_normalization_10 (Bat  (None, 7, 7, 128)        512       \n",
      " chNormalization)                                                \n",
      "                                                                 \n",
      " conv2d_11 (Conv2D)          (None, 7, 7, 128)         147584    \n",
      "                                                                 \n",
      " max_pooling2d_6 (MaxPooling  (None, 3, 3, 128)        0         \n",
      " 2D)                                                             \n",
      "                                                                 \n",
      " batch_normalization_11 (Bat  (None, 3, 3, 128)        512       \n",
      " chNormalization)                                                \n",
      "                                                                 \n",
      " conv2d_12 (Conv2D)          (None, 3, 3, 256)         295168    \n",
      "                                                                 \n",
      " batch_normalization_12 (Bat  (None, 3, 3, 256)        1024      \n",
      " chNormalization)                                                \n",
      "                                                                 \n",
      " conv2d_13 (Conv2D)          (None, 3, 3, 512)         1180160   \n",
      "                                                                 \n",
      " max_pooling2d_7 (MaxPooling  (None, 1, 1, 512)        0         \n",
      " 2D)                                                             \n",
      "                                                                 \n",
      " batch_normalization_13 (Bat  (None, 1, 1, 512)        2048      \n",
      " chNormalization)                                                \n",
      "                                                                 \n",
      " flatten_1 (Flatten)         (None, 512)               0         \n",
      "                                                                 \n",
      " dense_5 (Dense)             (None, 256)               131328    \n",
      "                                                                 \n",
      " dense_6 (Dense)             (None, 128)               32896     \n",
      "                                                                 \n",
      " dense_7 (Dense)             (None, 64)                8256      \n",
      "                                                                 \n",
      " dense_8 (Dense)             (None, 32)                2080      \n",
      "                                                                 \n",
      " dense_9 (Dense)             (None, 10)                330       \n",
      "                                                                 \n",
      "=================================================================\n",
      "Total params: 1,920,714\n",
      "Trainable params: 1,918,410\n",
      "Non-trainable params: 2,304\n",
      "_________________________________________________________________\n"
     ]
    }
   ],
   "source": [
    "model = keras.Sequential()\n",
    "\n",
    "model.add(Conv2D(32,kernel_size=(3,3),padding='Same',activation='relu',input_shape=(28,28,1)))\n",
    "model.add(BatchNormalization())\n",
    "\n",
    "model.add(Conv2D(32,(5,5),padding='Same',activation='relu'))\n",
    "model.add(BatchNormalization())\n",
    "model.add(MaxPooling2D((2,2)))\n",
    "\n",
    "model.add(Conv2D(64,(3,3),padding='Same',activation='relu'))\n",
    "model.add(BatchNormalization())\n",
    "model.add(MaxPooling2D(pool_size=(2,2),strides=(2,2)))\n",
    "model.add(Dropout(0.2))\n",
    "\n",
    "model.add(Conv2D(128,(3,3),padding='Same',activation='relu'))\n",
    "model.add(BatchNormalization())\n",
    "\n",
    "model.add(Conv2D(128,(3,3),padding='Same',activation='relu'))\n",
    "model.add(MaxPooling2D((2,2)))\n",
    "model.add(BatchNormalization()),\n",
    "\n",
    "model.add(Conv2D(256,(3,3),padding='Same',activation='relu'))\n",
    "model.add(BatchNormalization())\n",
    "\n",
    "model.add(Conv2D(512,(3,3),padding='Same',activation='relu'))\n",
    "model.add(MaxPooling2D((2,2)))\n",
    "model.add(BatchNormalization()),\n",
    "\n",
    "model.add(Flatten())\n",
    "\n",
    "model.add(Dense(256,activation='relu'))\n",
    "model.add(Dense(128,activation='relu'))\n",
    "model.add(Dense(64,activation='relu'))\n",
    "model.add(Dense(32,activation='relu'))\n",
    "model.add(Dense(10,activation='softmax'))\n",
    "model.summary()"
   ]
  },
  {
   "cell_type": "code",
   "execution_count": 17,
   "id": "00dd28f5",
   "metadata": {},
   "outputs": [
    {
     "name": "stdout",
     "output_type": "stream",
     "text": [
      "Epoch 1/10\n",
      "938/938 [==============================] - 11s 11ms/step - loss: 0.0520 - accuracy: 0.9861 - val_loss: 0.0635 - val_accuracy: 0.9843\n",
      "Epoch 2/10\n",
      "938/938 [==============================] - 9s 10ms/step - loss: 0.0381 - accuracy: 0.9898 - val_loss: 0.0505 - val_accuracy: 0.9873\n",
      "Epoch 3/10\n",
      "938/938 [==============================] - 10s 11ms/step - loss: 0.0299 - accuracy: 0.9918 - val_loss: 0.0296 - val_accuracy: 0.9926\n",
      "Epoch 4/10\n",
      "938/938 [==============================] - 10s 11ms/step - loss: 0.0262 - accuracy: 0.9927 - val_loss: 0.0383 - val_accuracy: 0.9903\n",
      "Epoch 5/10\n",
      "938/938 [==============================] - 10s 11ms/step - loss: 0.0231 - accuracy: 0.9939 - val_loss: 0.0296 - val_accuracy: 0.9931 0.0230 - accuracy: \n",
      "Epoch 6/10\n",
      "938/938 [==============================] - 10s 11ms/step - loss: 0.0212 - accuracy: 0.9944 - val_loss: 0.0392 - val_accuracy: 0.9913\n",
      "Epoch 7/10\n",
      "938/938 [==============================] - 10s 11ms/step - loss: 0.0198 - accuracy: 0.9949 - val_loss: 0.0297 - val_accuracy: 0.9929\n",
      "Epoch 8/10\n",
      "938/938 [==============================] - 10s 11ms/step - loss: 0.0199 - accuracy: 0.9949 - val_loss: 0.0272 - val_accuracy: 0.9934\n",
      "Epoch 9/10\n",
      "938/938 [==============================] - 10s 10ms/step - loss: 0.0158 - accuracy: 0.9959 - val_loss: 0.0257 - val_accuracy: 0.9938\n",
      "Epoch 10/10\n",
      "938/938 [==============================] - 10s 11ms/step - loss: 0.0154 - accuracy: 0.9960 - val_loss: 0.0257 - val_accuracy: 0.9942\n"
     ]
    }
   ],
   "source": [
    "epochs=10\n",
    "batch_size = 64\n",
    "op=Adam(learning_rate=0.001)\n",
    "model.compile(optimizer=op,loss='sparse_categorical_crossentropy',metrics=['accuracy'])\n",
    "history = model.fit(x_train,y_train,batch_size=batch_size,validation_data=(x_test,y_test),epochs=epochs )"
   ]
  },
  {
   "cell_type": "code",
   "execution_count": 22,
   "id": "b42a1e48",
   "metadata": {},
   "outputs": [
    {
     "data": {
      "image/png": "[encoded data removed]",
      "text/plain": [
       "<Figure size 432x288 with 1 Axes>"
      ]
     },
     "metadata": {
      "needs_background": "light"
     },
     "output_type": "display_data"
    }
   ],
   "source": [
    "def plotting(hist):\n",
    "    plt.plot(hist.history[\"val_accuracy\"],'r')\n",
    "    plt.plot(hist.history[\"val_loss\"],'y')\n",
    "    plt.title(\"model accuracy\")\n",
    "    plt.ylabel(\"accuracy\")\n",
    "    plt.xlabel(\"epoch\")\n",
    "    plt.legend([\"validation\",\"validation_loss\"], loc=\"best\")\n",
    "    plt.show()\n",
    "plotting(history)"
   ]
  },
  {
   "cell_type": "code",
   "execution_count": 26,
   "id": "b9ba6911",
   "metadata": {},
   "outputs": [
    {
     "name": "stdout",
     "output_type": "stream",
     "text": [
      "313/313 [==============================] - ETA: 0s - loss: 0.0237 - accuracy: 0.99 - 2s 5ms/step - loss: 0.0257 - accuracy: 0.9942\n",
      "Our model accuracy is ~ 99.0 %\n"
     ]
    }
   ],
   "source": [
    "evaluation = model.evaluate(x_test,y_test)\n",
    "print(f\"Our model accuracy is ~ {np.round(evaluation[1]*100)} %\")"
   ]
  },
  {
   "cell_type": "code",
   "execution_count": 27,
   "id": "0efa7956",
   "metadata": {},
   "outputs": [],
   "source": [
    "model.save('mnist.model',save_format='h5')"
   ]
  }
 ],
 "metadata": {
  "kernelspec": {
   "display_name": "MNIST",
   "language": "python",
   "name": "mnist"
  },
  "language_info": {
   "codemirror_mode": {
    "name": "ipython",
    "version": 3
   },
   "file_extension": ".py",
   "mimetype": "text/x-python",
   "name": "python",
   "nbconvert_exporter": "python",
   "pygments_lexer": "ipython3",
   "version": "3.9.5"
  }
 },
 "nbformat": 4,
 "nbformat_minor": 5
}
